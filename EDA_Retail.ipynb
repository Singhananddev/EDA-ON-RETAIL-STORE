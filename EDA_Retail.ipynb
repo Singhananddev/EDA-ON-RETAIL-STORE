{
 "cells": [
  {
   "cell_type": "markdown",
   "id": "de83f41f",
   "metadata": {},
   "source": [
    "# *Exploratory Data Analysis - Retail*"
   ]
  },
  {
   "cell_type": "code",
   "execution_count": 40,
   "id": "d0431ee0",
   "metadata": {},
   "outputs": [],
   "source": [
    "# Importing libraries\n",
    "import numpy as np\n",
    "import pandas as pd\n",
    "# for visualisation\n",
    "import seaborn as sns\n",
    "import matplotlib.pyplot as plt\n",
    "%matplotlib inline\n",
    "import plotly.express as px     "
   ]
  },
  {
   "cell_type": "code",
   "execution_count": 41,
   "id": "6cefba0a",
   "metadata": {},
   "outputs": [],
   "source": [
    "#loading the dataset\n",
    "retail_df = pd.read_csv(\"SampleSuperstore.csv\")"
   ]
  },
  {
   "cell_type": "code",
   "execution_count": 42,
   "id": "6e7bdf92",
   "metadata": {},
   "outputs": [
    {
     "data": {
      "text/html": [
       "<div>\n",
       "<style scoped>\n",
       "    .dataframe tbody tr th:only-of-type {\n",
       "        vertical-align: middle;\n",
       "    }\n",
       "\n",
       "    .dataframe tbody tr th {\n",
       "        vertical-align: top;\n",
       "    }\n",
       "\n",
       "    .dataframe thead th {\n",
       "        text-align: right;\n",
       "    }\n",
       "</style>\n",
       "<table border=\"1\" class=\"dataframe\">\n",
       "  <thead>\n",
       "    <tr style=\"text-align: right;\">\n",
       "      <th></th>\n",
       "      <th>Ship Mode</th>\n",
       "      <th>Segment</th>\n",
       "      <th>Country</th>\n",
       "      <th>City</th>\n",
       "      <th>State</th>\n",
       "      <th>Postal Code</th>\n",
       "      <th>Region</th>\n",
       "      <th>Category</th>\n",
       "      <th>Sub-Category</th>\n",
       "      <th>Sales</th>\n",
       "      <th>Quantity</th>\n",
       "      <th>Discount</th>\n",
       "      <th>Profit</th>\n",
       "    </tr>\n",
       "  </thead>\n",
       "  <tbody>\n",
       "    <tr>\n",
       "      <th>0</th>\n",
       "      <td>Second Class</td>\n",
       "      <td>Consumer</td>\n",
       "      <td>United States</td>\n",
       "      <td>Henderson</td>\n",
       "      <td>Kentucky</td>\n",
       "      <td>42420</td>\n",
       "      <td>South</td>\n",
       "      <td>Furniture</td>\n",
       "      <td>Bookcases</td>\n",
       "      <td>261.9600</td>\n",
       "      <td>2</td>\n",
       "      <td>0.00</td>\n",
       "      <td>41.9136</td>\n",
       "    </tr>\n",
       "    <tr>\n",
       "      <th>1</th>\n",
       "      <td>Second Class</td>\n",
       "      <td>Consumer</td>\n",
       "      <td>United States</td>\n",
       "      <td>Henderson</td>\n",
       "      <td>Kentucky</td>\n",
       "      <td>42420</td>\n",
       "      <td>South</td>\n",
       "      <td>Furniture</td>\n",
       "      <td>Chairs</td>\n",
       "      <td>731.9400</td>\n",
       "      <td>3</td>\n",
       "      <td>0.00</td>\n",
       "      <td>219.5820</td>\n",
       "    </tr>\n",
       "    <tr>\n",
       "      <th>2</th>\n",
       "      <td>Second Class</td>\n",
       "      <td>Corporate</td>\n",
       "      <td>United States</td>\n",
       "      <td>Los Angeles</td>\n",
       "      <td>California</td>\n",
       "      <td>90036</td>\n",
       "      <td>West</td>\n",
       "      <td>Office Supplies</td>\n",
       "      <td>Labels</td>\n",
       "      <td>14.6200</td>\n",
       "      <td>2</td>\n",
       "      <td>0.00</td>\n",
       "      <td>6.8714</td>\n",
       "    </tr>\n",
       "    <tr>\n",
       "      <th>3</th>\n",
       "      <td>Standard Class</td>\n",
       "      <td>Consumer</td>\n",
       "      <td>United States</td>\n",
       "      <td>Fort Lauderdale</td>\n",
       "      <td>Florida</td>\n",
       "      <td>33311</td>\n",
       "      <td>South</td>\n",
       "      <td>Furniture</td>\n",
       "      <td>Tables</td>\n",
       "      <td>957.5775</td>\n",
       "      <td>5</td>\n",
       "      <td>0.45</td>\n",
       "      <td>-383.0310</td>\n",
       "    </tr>\n",
       "    <tr>\n",
       "      <th>4</th>\n",
       "      <td>Standard Class</td>\n",
       "      <td>Consumer</td>\n",
       "      <td>United States</td>\n",
       "      <td>Fort Lauderdale</td>\n",
       "      <td>Florida</td>\n",
       "      <td>33311</td>\n",
       "      <td>South</td>\n",
       "      <td>Office Supplies</td>\n",
       "      <td>Storage</td>\n",
       "      <td>22.3680</td>\n",
       "      <td>2</td>\n",
       "      <td>0.20</td>\n",
       "      <td>2.5164</td>\n",
       "    </tr>\n",
       "  </tbody>\n",
       "</table>\n",
       "</div>"
      ],
      "text/plain": [
       "        Ship Mode    Segment        Country             City       State   \n",
       "0    Second Class   Consumer  United States        Henderson    Kentucky  \\\n",
       "1    Second Class   Consumer  United States        Henderson    Kentucky   \n",
       "2    Second Class  Corporate  United States      Los Angeles  California   \n",
       "3  Standard Class   Consumer  United States  Fort Lauderdale     Florida   \n",
       "4  Standard Class   Consumer  United States  Fort Lauderdale     Florida   \n",
       "\n",
       "   Postal Code Region         Category Sub-Category     Sales  Quantity   \n",
       "0        42420  South        Furniture    Bookcases  261.9600         2  \\\n",
       "1        42420  South        Furniture       Chairs  731.9400         3   \n",
       "2        90036   West  Office Supplies       Labels   14.6200         2   \n",
       "3        33311  South        Furniture       Tables  957.5775         5   \n",
       "4        33311  South  Office Supplies      Storage   22.3680         2   \n",
       "\n",
       "   Discount    Profit  \n",
       "0      0.00   41.9136  \n",
       "1      0.00  219.5820  \n",
       "2      0.00    6.8714  \n",
       "3      0.45 -383.0310  \n",
       "4      0.20    2.5164  "
      ]
     },
     "execution_count": 42,
     "metadata": {},
     "output_type": "execute_result"
    }
   ],
   "source": [
    "# Reading the dataset\n",
    "retail_df.head()"
   ]
  },
  {
   "cell_type": "code",
   "execution_count": 43,
   "id": "f1f72c4c",
   "metadata": {},
   "outputs": [
    {
     "name": "stdout",
     "output_type": "stream",
     "text": [
      "<class 'pandas.core.frame.DataFrame'>\n",
      "RangeIndex: 9994 entries, 0 to 9993\n",
      "Data columns (total 13 columns):\n",
      " #   Column        Non-Null Count  Dtype  \n",
      "---  ------        --------------  -----  \n",
      " 0   Ship Mode     9994 non-null   object \n",
      " 1   Segment       9994 non-null   object \n",
      " 2   Country       9994 non-null   object \n",
      " 3   City          9994 non-null   object \n",
      " 4   State         9994 non-null   object \n",
      " 5   Postal Code   9994 non-null   int64  \n",
      " 6   Region        9994 non-null   object \n",
      " 7   Category      9994 non-null   object \n",
      " 8   Sub-Category  9994 non-null   object \n",
      " 9   Sales         9994 non-null   float64\n",
      " 10  Quantity      9994 non-null   int64  \n",
      " 11  Discount      9994 non-null   float64\n",
      " 12  Profit        9994 non-null   float64\n",
      "dtypes: float64(3), int64(2), object(8)\n",
      "memory usage: 1015.1+ KB\n"
     ]
    }
   ],
   "source": [
    "retail_df.info()"
   ]
  },
  {
   "cell_type": "code",
   "execution_count": 44,
   "id": "3b13a3e5",
   "metadata": {},
   "outputs": [
    {
     "name": "stdout",
     "output_type": "stream",
     "text": [
      "Number of rows : 9994\n",
      "Number of columns : 13\n"
     ]
    }
   ],
   "source": [
    "# Dataset Rows & Columns count\n",
    "print(f'Number of rows : {len(retail_df.axes[0])}')\n",
    "print(f'Number of columns : {len(retail_df.axes[1])}')\n",
    "     "
   ]
  },
  {
   "cell_type": "code",
   "execution_count": 45,
   "id": "ea1d3bb0",
   "metadata": {},
   "outputs": [
    {
     "data": {
      "text/plain": [
       "17"
      ]
     },
     "execution_count": 45,
     "metadata": {},
     "output_type": "execute_result"
    }
   ],
   "source": [
    "# Dataset Duplicate Value Count\n",
    "retail_df.duplicated().sum()"
   ]
  },
  {
   "cell_type": "code",
   "execution_count": 46,
   "id": "cb9d0996",
   "metadata": {},
   "outputs": [],
   "source": [
    "#Dropping the duplicate values\n",
    "retail_df.drop_duplicates(inplace = True)"
   ]
  },
  {
   "cell_type": "code",
   "execution_count": 47,
   "id": "c6889104",
   "metadata": {},
   "outputs": [
    {
     "data": {
      "text/plain": [
       "0"
      ]
     },
     "execution_count": 47,
     "metadata": {},
     "output_type": "execute_result"
    }
   ],
   "source": [
    "# rechecking duplicate values after dropping\n",
    "retail_df.duplicated().sum()"
   ]
  },
  {
   "cell_type": "code",
   "execution_count": 48,
   "id": "bd64269f",
   "metadata": {},
   "outputs": [
    {
     "data": {
      "text/plain": [
       "Ship Mode       0\n",
       "Segment         0\n",
       "Country         0\n",
       "City            0\n",
       "State           0\n",
       "Postal Code     0\n",
       "Region          0\n",
       "Category        0\n",
       "Sub-Category    0\n",
       "Sales           0\n",
       "Quantity        0\n",
       "Discount        0\n",
       "Profit          0\n",
       "dtype: int64"
      ]
     },
     "execution_count": 48,
     "metadata": {},
     "output_type": "execute_result"
    }
   ],
   "source": [
    "# Null values count\n",
    "retail_df.isnull().sum()"
   ]
  },
  {
   "cell_type": "code",
   "execution_count": 49,
   "id": "f13185eb",
   "metadata": {},
   "outputs": [
    {
     "data": {
      "text/plain": [
       "Index(['Ship Mode', 'Segment', 'Country', 'City', 'State', 'Postal Code',\n",
       "       'Region', 'Category', 'Sub-Category', 'Sales', 'Quantity', 'Discount',\n",
       "       'Profit'],\n",
       "      dtype='object')"
      ]
     },
     "execution_count": 49,
     "metadata": {},
     "output_type": "execute_result"
    }
   ],
   "source": [
    "# Dataset Columns\n",
    "retail_df.columns"
   ]
  },
  {
   "cell_type": "code",
   "execution_count": 50,
   "id": "dac6111d",
   "metadata": {},
   "outputs": [
    {
     "data": {
      "text/html": [
       "<div>\n",
       "<style scoped>\n",
       "    .dataframe tbody tr th:only-of-type {\n",
       "        vertical-align: middle;\n",
       "    }\n",
       "\n",
       "    .dataframe tbody tr th {\n",
       "        vertical-align: top;\n",
       "    }\n",
       "\n",
       "    .dataframe thead th {\n",
       "        text-align: right;\n",
       "    }\n",
       "</style>\n",
       "<table border=\"1\" class=\"dataframe\">\n",
       "  <thead>\n",
       "    <tr style=\"text-align: right;\">\n",
       "      <th></th>\n",
       "      <th>Postal Code</th>\n",
       "      <th>Sales</th>\n",
       "      <th>Quantity</th>\n",
       "      <th>Discount</th>\n",
       "      <th>Profit</th>\n",
       "    </tr>\n",
       "  </thead>\n",
       "  <tbody>\n",
       "    <tr>\n",
       "      <th>count</th>\n",
       "      <td>9977.000000</td>\n",
       "      <td>9977.000000</td>\n",
       "      <td>9977.000000</td>\n",
       "      <td>9977.000000</td>\n",
       "      <td>9977.00000</td>\n",
       "    </tr>\n",
       "    <tr>\n",
       "      <th>mean</th>\n",
       "      <td>55154.964117</td>\n",
       "      <td>230.148902</td>\n",
       "      <td>3.790719</td>\n",
       "      <td>0.156278</td>\n",
       "      <td>28.69013</td>\n",
       "    </tr>\n",
       "    <tr>\n",
       "      <th>std</th>\n",
       "      <td>32058.266816</td>\n",
       "      <td>623.721409</td>\n",
       "      <td>2.226657</td>\n",
       "      <td>0.206455</td>\n",
       "      <td>234.45784</td>\n",
       "    </tr>\n",
       "    <tr>\n",
       "      <th>min</th>\n",
       "      <td>1040.000000</td>\n",
       "      <td>0.444000</td>\n",
       "      <td>1.000000</td>\n",
       "      <td>0.000000</td>\n",
       "      <td>-6599.97800</td>\n",
       "    </tr>\n",
       "    <tr>\n",
       "      <th>25%</th>\n",
       "      <td>23223.000000</td>\n",
       "      <td>17.300000</td>\n",
       "      <td>2.000000</td>\n",
       "      <td>0.000000</td>\n",
       "      <td>1.72620</td>\n",
       "    </tr>\n",
       "    <tr>\n",
       "      <th>50%</th>\n",
       "      <td>55901.000000</td>\n",
       "      <td>54.816000</td>\n",
       "      <td>3.000000</td>\n",
       "      <td>0.200000</td>\n",
       "      <td>8.67100</td>\n",
       "    </tr>\n",
       "    <tr>\n",
       "      <th>75%</th>\n",
       "      <td>90008.000000</td>\n",
       "      <td>209.970000</td>\n",
       "      <td>5.000000</td>\n",
       "      <td>0.200000</td>\n",
       "      <td>29.37200</td>\n",
       "    </tr>\n",
       "    <tr>\n",
       "      <th>max</th>\n",
       "      <td>99301.000000</td>\n",
       "      <td>22638.480000</td>\n",
       "      <td>14.000000</td>\n",
       "      <td>0.800000</td>\n",
       "      <td>8399.97600</td>\n",
       "    </tr>\n",
       "  </tbody>\n",
       "</table>\n",
       "</div>"
      ],
      "text/plain": [
       "        Postal Code         Sales     Quantity     Discount      Profit\n",
       "count   9977.000000   9977.000000  9977.000000  9977.000000  9977.00000\n",
       "mean   55154.964117    230.148902     3.790719     0.156278    28.69013\n",
       "std    32058.266816    623.721409     2.226657     0.206455   234.45784\n",
       "min     1040.000000      0.444000     1.000000     0.000000 -6599.97800\n",
       "25%    23223.000000     17.300000     2.000000     0.000000     1.72620\n",
       "50%    55901.000000     54.816000     3.000000     0.200000     8.67100\n",
       "75%    90008.000000    209.970000     5.000000     0.200000    29.37200\n",
       "max    99301.000000  22638.480000    14.000000     0.800000  8399.97600"
      ]
     },
     "execution_count": 50,
     "metadata": {},
     "output_type": "execute_result"
    }
   ],
   "source": [
    "# Dataset describe\n",
    "retail_df.describe()"
   ]
  },
  {
   "cell_type": "code",
   "execution_count": 51,
   "id": "ba8f3cff",
   "metadata": {},
   "outputs": [
    {
     "data": {
      "text/plain": [
       "Ship Mode       [Second Class, Standard Class, First Class, Sa...\n",
       "Segment                        [Consumer, Corporate, Home Office]\n",
       "Country                                           [United States]\n",
       "City            [Henderson, Los Angeles, Fort Lauderdale, Conc...\n",
       "State           [Kentucky, California, Florida, North Carolina...\n",
       "Postal Code     [42420, 90036, 33311, 90032, 28027, 98103, 761...\n",
       "Region                               [South, West, Central, East]\n",
       "Category                 [Furniture, Office Supplies, Technology]\n",
       "Sub-Category    [Bookcases, Chairs, Labels, Tables, Storage, F...\n",
       "Sales           [261.96, 731.94, 14.62, 957.5775, 22.368, 48.8...\n",
       "Quantity          [2, 3, 5, 7, 4, 6, 9, 1, 8, 14, 11, 13, 10, 12]\n",
       "Discount        [0.0, 0.45, 0.2, 0.8, 0.3, 0.5, 0.7, 0.6, 0.32...\n",
       "Profit          [41.9136, 219.582, 6.8714, -383.031, 2.5164, 1...\n",
       "dtype: object"
      ]
     },
     "execution_count": 51,
     "metadata": {},
     "output_type": "execute_result"
    }
   ],
   "source": [
    "# Check Unique Values for each variable.\n",
    "pd.Series({col:retail_df[col].unique() for col in retail_df})"
   ]
  },
  {
   "cell_type": "markdown",
   "id": "34b4e273",
   "metadata": {},
   "source": [
    "# *Data Vizualization, Storytelling & Experimenting with charts *"
   ]
  },
  {
   "cell_type": "markdown",
   "id": "d5e9d356",
   "metadata": {},
   "source": [
    "###### Chart 1: Which Type of shipment is most prefferd?"
   ]
  },
  {
   "cell_type": "code",
   "execution_count": 52,
   "id": "cce07812",
   "metadata": {},
   "outputs": [
    {
     "data": {
      "image/png": "[encoded data removed]",
      "text/plain": [
       "<Figure size 1400x500 with 1 Axes>"
      ]
     },
     "metadata": {},
     "output_type": "display_data"
    }
   ],
   "source": [
    "# Setting the chart size\n",
    "plt.figure(figsize=(14,5))\n",
    "\n",
    "# Plottong the values\n",
    "sns.countplot(x= retail_df['Ship Mode'])\n",
    "\n",
    "# Setting the title\n",
    "plt.title('Most Preffered Shipment Type', fontsize=18)\n",
    "\n",
    "# Show the chart\n",
    "plt.show()"
   ]
  },
  {
   "cell_type": "markdown",
   "id": "8fb5c236",
   "metadata": {},
   "source": [
    "###### *Observation :* We can see that the 'Standard Class' is the most prefferd type of shipment followed by second class."
   ]
  },
  {
   "cell_type": "markdown",
   "id": "99cffeec",
   "metadata": {},
   "source": [
    "###### Chart 2:Highest customer segment"
   ]
  },
  {
   "cell_type": "code",
   "execution_count": 53,
   "id": "4ed01361",
   "metadata": {},
   "outputs": [
    {
     "data": {
      "image/png": "[encoded data removed]",
      "text/plain": [
       "<Figure size 1500x500 with 1 Axes>"
      ]
     },
     "metadata": {},
     "output_type": "display_data"
    }
   ],
   "source": [
    "# Setting the figure size\n",
    "plt.figure(figsize=(15,5))\n",
    "\n",
    "# Plotting the values using countplot\n",
    "sns.countplot(x=retail_df['Segment'])\n",
    "\n",
    "# Setting the title\n",
    "plt.title('Customer Segment Count',fontsize=18)\n",
    "\n",
    "# Show the chart\n",
    "plt.show()"
   ]
  },
  {
   "cell_type": "markdown",
   "id": "f329027c",
   "metadata": {},
   "source": [
    "###### Observation: We found out that \"Consumer' is the number 1 customer segment."
   ]
  },
  {
   "cell_type": "markdown",
   "id": "0e9eec6b",
   "metadata": {},
   "source": [
    "#### Chart 3:Which Region has the most number of Consumers?"
   ]
  },
  {
   "cell_type": "code",
   "execution_count": 54,
   "id": "85f00c2d",
   "metadata": {},
   "outputs": [
    {
     "data": {
      "image/png": "[encoded data removed]",
      "text/plain": [
       "<Figure size 1500x700 with 1 Axes>"
      ]
     },
     "metadata": {},
     "output_type": "display_data"
    }
   ],
   "source": [
    "# Counting the Region values\n",
    "reg = retail_df.Region.value_counts()\n",
    "\n",
    "# Creating a explode data\n",
    "explode = (0.00,0.03,0.05,0.05)\n",
    "\n",
    "# Craeting a pie chart\n",
    "reg.plot.pie(figsize=(15,7), explode= explode, autopct='%1.2f%%', shadow=False, fontsize=15,startangle=50)\n",
    "\n",
    "# Setting the title\n",
    "plt.title('Region with most number of customer', fontsize = 20)\n",
    "\n",
    "# Setting the axis in centre\n",
    "plt.axis('equal')\n",
    "\n",
    "# Show Chart\n",
    "plt.show()"
   ]
  },
  {
   "cell_type": "markdown",
   "id": "95c960da",
   "metadata": {},
   "source": [
    "###### Observation : We can see that most customers come from West."
   ]
  },
  {
   "cell_type": "markdown",
   "id": "716e6fac",
   "metadata": {},
   "source": [
    "#### Chart 4:From which State most of the customers are?"
   ]
  },
  {
   "cell_type": "code",
   "execution_count": 56,
   "id": "90f67daf",
   "metadata": {},
   "outputs": [
    {
     "ename": "KeyError",
     "evalue": "'State'",
     "output_type": "error",
     "traceback": [
      "\u001b[1;31m---------------------------------------------------------------------------\u001b[0m",
      "\u001b[1;31mKeyError\u001b[0m                                  Traceback (most recent call last)",
      "File \u001b[1;32m~\\AppData\\Local\\Programs\\Python\\Python311\\Lib\\site-packages\\pandas\\core\\indexes\\base.py:3652\u001b[0m, in \u001b[0;36mIndex.get_loc\u001b[1;34m(self, key)\u001b[0m\n\u001b[0;32m   3651\u001b[0m \u001b[38;5;28;01mtry\u001b[39;00m:\n\u001b[1;32m-> 3652\u001b[0m     \u001b[38;5;28;01mreturn\u001b[39;00m \u001b[38;5;28;43mself\u001b[39;49m\u001b[38;5;241;43m.\u001b[39;49m\u001b[43m_engine\u001b[49m\u001b[38;5;241;43m.\u001b[39;49m\u001b[43mget_loc\u001b[49m\u001b[43m(\u001b[49m\u001b[43mcasted_key\u001b[49m\u001b[43m)\u001b[49m\n\u001b[0;32m   3653\u001b[0m \u001b[38;5;28;01mexcept\u001b[39;00m \u001b[38;5;167;01mKeyError\u001b[39;00m \u001b[38;5;28;01mas\u001b[39;00m err:\n",
      "File \u001b[1;32m~\\AppData\\Local\\Programs\\Python\\Python311\\Lib\\site-packages\\pandas\\_libs\\index.pyx:147\u001b[0m, in \u001b[0;36mpandas._libs.index.IndexEngine.get_loc\u001b[1;34m()\u001b[0m\n",
      "File \u001b[1;32m~\\AppData\\Local\\Programs\\Python\\Python311\\Lib\\site-packages\\pandas\\_libs\\index.pyx:176\u001b[0m, in \u001b[0;36mpandas._libs.index.IndexEngine.get_loc\u001b[1;34m()\u001b[0m\n",
      "File \u001b[1;32mpandas\\_libs\\hashtable_class_helper.pxi:7080\u001b[0m, in \u001b[0;36mpandas._libs.hashtable.PyObjectHashTable.get_item\u001b[1;34m()\u001b[0m\n",
      "File \u001b[1;32mpandas\\_libs\\hashtable_class_helper.pxi:7088\u001b[0m, in \u001b[0;36mpandas._libs.hashtable.PyObjectHashTable.get_item\u001b[1;34m()\u001b[0m\n",
      "\u001b[1;31mKeyError\u001b[0m: 'State'",
      "\nThe above exception was the direct cause of the following exception:\n",
      "\u001b[1;31mKeyError\u001b[0m                                  Traceback (most recent call last)",
      "Cell \u001b[1;32mIn[56], line 11\u001b[0m\n\u001b[0;32m      8\u001b[0m State_df1 \u001b[38;5;241m=\u001b[39m State_df[:\u001b[38;5;241m5\u001b[39m]\n\u001b[0;32m     10\u001b[0m \u001b[38;5;66;03m# Plotting the values \u001b[39;00m\n\u001b[1;32m---> 11\u001b[0m sns\u001b[38;5;241m.\u001b[39mbarplot(x\u001b[38;5;241m=\u001b[39m\u001b[43mState_df1\u001b[49m\u001b[43m[\u001b[49m\u001b[38;5;124;43m'\u001b[39;49m\u001b[38;5;124;43mState\u001b[39;49m\u001b[38;5;124;43m'\u001b[39;49m\u001b[43m]\u001b[49m, y \u001b[38;5;241m=\u001b[39m State_df1[\u001b[38;5;124m'\u001b[39m\u001b[38;5;124mState Count\u001b[39m\u001b[38;5;124m'\u001b[39m])\n\u001b[0;32m     13\u001b[0m \u001b[38;5;66;03m# Setting the title \u001b[39;00m\n\u001b[0;32m     14\u001b[0m plt\u001b[38;5;241m.\u001b[39mtitle(\u001b[38;5;124m'\u001b[39m\u001b[38;5;124mTop 5 States in terms of customers count\u001b[39m\u001b[38;5;124m'\u001b[39m, fontsize\u001b[38;5;241m=\u001b[39m\u001b[38;5;241m20\u001b[39m)\n",
      "File \u001b[1;32m~\\AppData\\Local\\Programs\\Python\\Python311\\Lib\\site-packages\\pandas\\core\\frame.py:3761\u001b[0m, in \u001b[0;36mDataFrame.__getitem__\u001b[1;34m(self, key)\u001b[0m\n\u001b[0;32m   3759\u001b[0m \u001b[38;5;28;01mif\u001b[39;00m \u001b[38;5;28mself\u001b[39m\u001b[38;5;241m.\u001b[39mcolumns\u001b[38;5;241m.\u001b[39mnlevels \u001b[38;5;241m>\u001b[39m \u001b[38;5;241m1\u001b[39m:\n\u001b[0;32m   3760\u001b[0m     \u001b[38;5;28;01mreturn\u001b[39;00m \u001b[38;5;28mself\u001b[39m\u001b[38;5;241m.\u001b[39m_getitem_multilevel(key)\n\u001b[1;32m-> 3761\u001b[0m indexer \u001b[38;5;241m=\u001b[39m \u001b[38;5;28;43mself\u001b[39;49m\u001b[38;5;241;43m.\u001b[39;49m\u001b[43mcolumns\u001b[49m\u001b[38;5;241;43m.\u001b[39;49m\u001b[43mget_loc\u001b[49m\u001b[43m(\u001b[49m\u001b[43mkey\u001b[49m\u001b[43m)\u001b[49m\n\u001b[0;32m   3762\u001b[0m \u001b[38;5;28;01mif\u001b[39;00m is_integer(indexer):\n\u001b[0;32m   3763\u001b[0m     indexer \u001b[38;5;241m=\u001b[39m [indexer]\n",
      "File \u001b[1;32m~\\AppData\\Local\\Programs\\Python\\Python311\\Lib\\site-packages\\pandas\\core\\indexes\\base.py:3654\u001b[0m, in \u001b[0;36mIndex.get_loc\u001b[1;34m(self, key)\u001b[0m\n\u001b[0;32m   3652\u001b[0m     \u001b[38;5;28;01mreturn\u001b[39;00m \u001b[38;5;28mself\u001b[39m\u001b[38;5;241m.\u001b[39m_engine\u001b[38;5;241m.\u001b[39mget_loc(casted_key)\n\u001b[0;32m   3653\u001b[0m \u001b[38;5;28;01mexcept\u001b[39;00m \u001b[38;5;167;01mKeyError\u001b[39;00m \u001b[38;5;28;01mas\u001b[39;00m err:\n\u001b[1;32m-> 3654\u001b[0m     \u001b[38;5;28;01mraise\u001b[39;00m \u001b[38;5;167;01mKeyError\u001b[39;00m(key) \u001b[38;5;28;01mfrom\u001b[39;00m \u001b[38;5;21;01merr\u001b[39;00m\n\u001b[0;32m   3655\u001b[0m \u001b[38;5;28;01mexcept\u001b[39;00m \u001b[38;5;167;01mTypeError\u001b[39;00m:\n\u001b[0;32m   3656\u001b[0m     \u001b[38;5;66;03m# If we have a listlike key, _check_indexing_error will raise\u001b[39;00m\n\u001b[0;32m   3657\u001b[0m     \u001b[38;5;66;03m#  InvalidIndexError. Otherwise we fall through and re-raise\u001b[39;00m\n\u001b[0;32m   3658\u001b[0m     \u001b[38;5;66;03m#  the TypeError.\u001b[39;00m\n\u001b[0;32m   3659\u001b[0m     \u001b[38;5;28mself\u001b[39m\u001b[38;5;241m.\u001b[39m_check_indexing_error(key)\n",
      "\u001b[1;31mKeyError\u001b[0m: 'State'"
     ]
    },
    {
     "data": {
      "text/plain": [
       "<Figure size 1500x500 with 0 Axes>"
      ]
     },
     "metadata": {},
     "output_type": "display_data"
    }
   ],
   "source": [
    "# Setting the chart size\n",
    "plt.figure(figsize=(15,5))\n",
    "\n",
    "# Creating a dataframe containing state name\n",
    "State_df = retail_df['State'].value_counts().reset_index().rename(columns={'index':'State', 'State':'State Count'})\n",
    "\n",
    "# Extracting top 5 states\n",
    "State_df1 = State_df[:5]\n",
    "\n",
    "# Plotting the values \n",
    "sns.barplot(x=State_df1['State'], y = State_df1['State Count'])\n",
    "\n",
    "# Setting the title \n",
    "plt.title('Top 5 States in terms of customers count', fontsize=20)\n",
    "\n",
    "# Show the chart\n",
    "plt.show()"
   ]
  },
  {
   "cell_type": "markdown",
   "id": "ce6837d6",
   "metadata": {},
   "source": [
    "###### Observation: After visualisation it is clear that the most customers come from 'California' State."
   ]
  },
  {
   "cell_type": "markdown",
   "id": "6b30192f",
   "metadata": {},
   "source": [
    "#### Chart 5:Top Cities from where customers are coming from"
   ]
  },
  {
   "cell_type": "code",
   "execution_count": 57,
   "id": "13f00da0",
   "metadata": {},
   "outputs": [
    {
     "ename": "KeyError",
     "evalue": "'City'",
     "output_type": "error",
     "traceback": [
      "\u001b[1;31m---------------------------------------------------------------------------\u001b[0m",
      "\u001b[1;31mKeyError\u001b[0m                                  Traceback (most recent call last)",
      "File \u001b[1;32m~\\AppData\\Local\\Programs\\Python\\Python311\\Lib\\site-packages\\pandas\\core\\indexes\\base.py:3652\u001b[0m, in \u001b[0;36mIndex.get_loc\u001b[1;34m(self, key)\u001b[0m\n\u001b[0;32m   3651\u001b[0m \u001b[38;5;28;01mtry\u001b[39;00m:\n\u001b[1;32m-> 3652\u001b[0m     \u001b[38;5;28;01mreturn\u001b[39;00m \u001b[38;5;28;43mself\u001b[39;49m\u001b[38;5;241;43m.\u001b[39;49m\u001b[43m_engine\u001b[49m\u001b[38;5;241;43m.\u001b[39;49m\u001b[43mget_loc\u001b[49m\u001b[43m(\u001b[49m\u001b[43mcasted_key\u001b[49m\u001b[43m)\u001b[49m\n\u001b[0;32m   3653\u001b[0m \u001b[38;5;28;01mexcept\u001b[39;00m \u001b[38;5;167;01mKeyError\u001b[39;00m \u001b[38;5;28;01mas\u001b[39;00m err:\n",
      "File \u001b[1;32m~\\AppData\\Local\\Programs\\Python\\Python311\\Lib\\site-packages\\pandas\\_libs\\index.pyx:147\u001b[0m, in \u001b[0;36mpandas._libs.index.IndexEngine.get_loc\u001b[1;34m()\u001b[0m\n",
      "File \u001b[1;32m~\\AppData\\Local\\Programs\\Python\\Python311\\Lib\\site-packages\\pandas\\_libs\\index.pyx:176\u001b[0m, in \u001b[0;36mpandas._libs.index.IndexEngine.get_loc\u001b[1;34m()\u001b[0m\n",
      "File \u001b[1;32mpandas\\_libs\\hashtable_class_helper.pxi:7080\u001b[0m, in \u001b[0;36mpandas._libs.hashtable.PyObjectHashTable.get_item\u001b[1;34m()\u001b[0m\n",
      "File \u001b[1;32mpandas\\_libs\\hashtable_class_helper.pxi:7088\u001b[0m, in \u001b[0;36mpandas._libs.hashtable.PyObjectHashTable.get_item\u001b[1;34m()\u001b[0m\n",
      "\u001b[1;31mKeyError\u001b[0m: 'City'",
      "\nThe above exception was the direct cause of the following exception:\n",
      "\u001b[1;31mKeyError\u001b[0m                                  Traceback (most recent call last)",
      "Cell \u001b[1;32mIn[57], line 12\u001b[0m\n\u001b[0;32m      9\u001b[0m plt\u001b[38;5;241m.\u001b[39mfigure(figsize\u001b[38;5;241m=\u001b[39m(\u001b[38;5;241m15\u001b[39m,\u001b[38;5;241m5\u001b[39m))\n\u001b[0;32m     11\u001b[0m \u001b[38;5;66;03m# Plotting the values\u001b[39;00m\n\u001b[1;32m---> 12\u001b[0m sns\u001b[38;5;241m.\u001b[39mbarplot(x\u001b[38;5;241m=\u001b[39m\u001b[43mTop7_city\u001b[49m\u001b[43m[\u001b[49m\u001b[38;5;124;43m'\u001b[39;49m\u001b[38;5;124;43mCity\u001b[39;49m\u001b[38;5;124;43m'\u001b[39;49m\u001b[43m]\u001b[49m, y\u001b[38;5;241m=\u001b[39mTop7_city[\u001b[38;5;124m'\u001b[39m\u001b[38;5;124mCity Count\u001b[39m\u001b[38;5;124m'\u001b[39m])\n\u001b[0;32m     14\u001b[0m \u001b[38;5;66;03m# Setting the title\u001b[39;00m\n\u001b[0;32m     15\u001b[0m plt\u001b[38;5;241m.\u001b[39mtitle(\u001b[38;5;124m'\u001b[39m\u001b[38;5;124mTop 7 cities in terms of customers\u001b[39m\u001b[38;5;124m'\u001b[39m, fontsize\u001b[38;5;241m=\u001b[39m\u001b[38;5;241m20\u001b[39m)\n",
      "File \u001b[1;32m~\\AppData\\Local\\Programs\\Python\\Python311\\Lib\\site-packages\\pandas\\core\\frame.py:3761\u001b[0m, in \u001b[0;36mDataFrame.__getitem__\u001b[1;34m(self, key)\u001b[0m\n\u001b[0;32m   3759\u001b[0m \u001b[38;5;28;01mif\u001b[39;00m \u001b[38;5;28mself\u001b[39m\u001b[38;5;241m.\u001b[39mcolumns\u001b[38;5;241m.\u001b[39mnlevels \u001b[38;5;241m>\u001b[39m \u001b[38;5;241m1\u001b[39m:\n\u001b[0;32m   3760\u001b[0m     \u001b[38;5;28;01mreturn\u001b[39;00m \u001b[38;5;28mself\u001b[39m\u001b[38;5;241m.\u001b[39m_getitem_multilevel(key)\n\u001b[1;32m-> 3761\u001b[0m indexer \u001b[38;5;241m=\u001b[39m \u001b[38;5;28;43mself\u001b[39;49m\u001b[38;5;241;43m.\u001b[39;49m\u001b[43mcolumns\u001b[49m\u001b[38;5;241;43m.\u001b[39;49m\u001b[43mget_loc\u001b[49m\u001b[43m(\u001b[49m\u001b[43mkey\u001b[49m\u001b[43m)\u001b[49m\n\u001b[0;32m   3762\u001b[0m \u001b[38;5;28;01mif\u001b[39;00m is_integer(indexer):\n\u001b[0;32m   3763\u001b[0m     indexer \u001b[38;5;241m=\u001b[39m [indexer]\n",
      "File \u001b[1;32m~\\AppData\\Local\\Programs\\Python\\Python311\\Lib\\site-packages\\pandas\\core\\indexes\\base.py:3654\u001b[0m, in \u001b[0;36mIndex.get_loc\u001b[1;34m(self, key)\u001b[0m\n\u001b[0;32m   3652\u001b[0m     \u001b[38;5;28;01mreturn\u001b[39;00m \u001b[38;5;28mself\u001b[39m\u001b[38;5;241m.\u001b[39m_engine\u001b[38;5;241m.\u001b[39mget_loc(casted_key)\n\u001b[0;32m   3653\u001b[0m \u001b[38;5;28;01mexcept\u001b[39;00m \u001b[38;5;167;01mKeyError\u001b[39;00m \u001b[38;5;28;01mas\u001b[39;00m err:\n\u001b[1;32m-> 3654\u001b[0m     \u001b[38;5;28;01mraise\u001b[39;00m \u001b[38;5;167;01mKeyError\u001b[39;00m(key) \u001b[38;5;28;01mfrom\u001b[39;00m \u001b[38;5;21;01merr\u001b[39;00m\n\u001b[0;32m   3655\u001b[0m \u001b[38;5;28;01mexcept\u001b[39;00m \u001b[38;5;167;01mTypeError\u001b[39;00m:\n\u001b[0;32m   3656\u001b[0m     \u001b[38;5;66;03m# If we have a listlike key, _check_indexing_error will raise\u001b[39;00m\n\u001b[0;32m   3657\u001b[0m     \u001b[38;5;66;03m#  InvalidIndexError. Otherwise we fall through and re-raise\u001b[39;00m\n\u001b[0;32m   3658\u001b[0m     \u001b[38;5;66;03m#  the TypeError.\u001b[39;00m\n\u001b[0;32m   3659\u001b[0m     \u001b[38;5;28mself\u001b[39m\u001b[38;5;241m.\u001b[39m_check_indexing_error(key)\n",
      "\u001b[1;31mKeyError\u001b[0m: 'City'"
     ]
    },
    {
     "data": {
      "text/plain": [
       "<Figure size 1500x500 with 0 Axes>"
      ]
     },
     "metadata": {},
     "output_type": "display_data"
    }
   ],
   "source": [
    "# Creating a dataframe containing city name\n",
    "\n",
    "City = retail_df['City'].value_counts().reset_index().rename(columns={'index': 'City', 'City': 'City Count'})\n",
    "\n",
    "# Extracting top 7 cities\n",
    "Top7_city = City[:7]\n",
    "\n",
    "# Setting the chart size\n",
    "plt.figure(figsize=(15,5))\n",
    "\n",
    "# Plotting the values\n",
    "sns.barplot(x=Top7_city['City'], y=Top7_city['City Count'])\n",
    "\n",
    "# Setting the title\n",
    "plt.title('Top 7 cities in terms of customers', fontsize=20)\n",
    "\n",
    "#Show Chart\n",
    "plt.show()\n"
   ]
  },
  {
   "cell_type": "markdown",
   "id": "17b52fe5",
   "metadata": {},
   "source": [
    "###### Observation: Most customers come from 'New York City'."
   ]
  },
  {
   "cell_type": "markdown",
   "id": "0446c129",
   "metadata": {},
   "source": [
    "#### Chart no  6:Which Category has most sales?"
   ]
  },
  {
   "cell_type": "code",
   "execution_count": null,
   "id": "d6beca37",
   "metadata": {},
   "outputs": [],
   "source": [
    "gcat = retail_df.groupby(['Category'])['Sales'].sum()\n",
    "gcat.plot.pie(figsize=(15,7), explode=(0.05,0.05,0.00), shadow = True , autopct='%1.2f%%', startangle=50)\n",
    "plt.title('Which Category has most sales?', fontsize=20)\n",
    "plt.axis('equal')\n",
    "plt.show()"
   ]
  },
  {
   "cell_type": "markdown",
   "id": "cb419fe4",
   "metadata": {},
   "source": [
    "###### Obserrvation: Technology category has most sales followed by Furniture."
   ]
  },
  {
   "cell_type": "markdown",
   "id": "51955d47",
   "metadata": {},
   "source": [
    "### Top 5 Sub Category in terms of sales?"
   ]
  },
  {
   "cell_type": "code",
   "execution_count": 58,
   "id": "6e561633",
   "metadata": {},
   "outputs": [
    {
     "data": {
      "text/plain": [
       "Sub-Category\n",
       "Phones     330007.054\n",
       "Chairs     327777.761\n",
       "Storage    223843.608\n",
       "Tables     206965.532\n",
       "Binders    203409.169\n",
       "Name: Sales, dtype: float64"
      ]
     },
     "execution_count": 58,
     "metadata": {},
     "output_type": "execute_result"
    }
   ],
   "source": [
    "# Grouping the Sub-Category column on Sales\n",
    "gsub_cat = retail_df.groupby(['Sub-Category'])['Sales'].sum().sort_values(ascending=False)     # Sorting the values in descending order to get top values\n",
    "\n",
    "# Extracting top 5 sub categories\n",
    "top_gsc = gsub_cat[:5]\n",
    "top_gsc"
   ]
  },
  {
   "cell_type": "code",
   "execution_count": null,
   "id": "c30a1a4b",
   "metadata": {},
   "outputs": [],
   "source": [
    "# Visualization Code\n",
    "# Creating explode data\n",
    "\n",
    "# Plotting the vslues in a pie chart\n",
    "top_gsc.plot.pie(figsize=(15,7), shadow=True, autopct='%1.2f%%', startangle=50)\n",
    "\n",
    "# Setting the title\n",
    "plt.title('Top  5 Selling Sub Categories', fontsize=20)\n",
    "\n",
    "# Setting the chart in centre\n",
    "plt.axis('equal')\n",
    "\n",
    "# Show the chart\n",
    "plt.show()"
   ]
  },
  {
   "cell_type": "markdown",
   "id": "ca5d166d",
   "metadata": {},
   "source": [
    "###### Observation: Most sale come from 2 categories 'Phones' and 'Chairs' respectively."
   ]
  },
  {
   "cell_type": "markdown",
   "id": "0ffb2eaa",
   "metadata": {},
   "source": [
    "### Chart 8:Which Category has given most profit?"
   ]
  },
  {
   "cell_type": "code",
   "execution_count": null,
   "id": "94798aa0",
   "metadata": {},
   "outputs": [],
   "source": [
    "# Grouping the Category Column on sum of Profit\n",
    "gcat_prof = retail_df.groupby(['Category'])['Profit'].sum()\n",
    "\n",
    "# Plotting the vslues on a pie chart\n",
    "gcat_prof.plot.pie(figsize=(15,8), explode=(0.02,0.01,0.03), shadow=True, autopct='%1.2f%%', startangle=30)\n",
    "\n",
    "# Setting the title\n",
    "plt.title('Top Profitable Categories', fontsize=18)\n",
    "\n",
    "# Setting the chart in centre\n",
    "plt.axis('equal')\n",
    "\n",
    "# Show the chart\n",
    "plt.show()"
   ]
  },
  {
   "cell_type": "markdown",
   "id": "f2c073fb",
   "metadata": {},
   "source": [
    "###### Observation: 'Technology' category is the most profitable category."
   ]
  },
  {
   "cell_type": "markdown",
   "id": "fae7c334",
   "metadata": {},
   "source": [
    "### Top 5 profitable Sub-Category"
   ]
  },
  {
   "cell_type": "code",
   "execution_count": null,
   "id": "9bd8b88a",
   "metadata": {},
   "outputs": [],
   "source": [
    "# Grouping the Sub-Category column on Profit\n",
    "gsub_prof = retail_df.groupby(['Sub-Category'])['Profit'].sum().sort_values(ascending=False)    # Sorting the values in descending order\n",
    "\n",
    "# Extracting top 5 profitable sub categories\n",
    "top_prof_sc = gsub_prof[:5]\n",
    "top_prof_sc"
   ]
  },
  {
   "cell_type": "code",
   "execution_count": null,
   "id": "f07726a7",
   "metadata": {},
   "outputs": [],
   "source": [
    "# Visualization code\n",
    "# Creating explode data\n",
    "explode = (0.05,0.05,0.04,0.00,0.05)\n",
    "\n",
    "# Plotting the vslues in a pie chart\n",
    "top_prof_sc.plot.pie(figsize=(15,7), explode=explode, shadow=True, autopct='%1.2f%%', startangle=50)\n",
    "\n",
    "# Setting the title\n",
    "plt.title('Top 5 Profitable Sub Categories', fontsize=20)\n",
    "\n",
    "# Setting the chart in centre\n",
    "plt.axis('equal')\n",
    "\n",
    "# Show the chart\n",
    "plt.show()"
   ]
  },
  {
   "cell_type": "markdown",
   "id": "de9dcd30",
   "metadata": {},
   "source": [
    "###### Observation: 'Cpiers' is the most profitable sub-category."
   ]
  },
  {
   "cell_type": "markdown",
   "id": "b7b7e6ce",
   "metadata": {},
   "source": [
    "### Chart 10:Which Category has most number of quantity sold?"
   ]
  },
  {
   "cell_type": "code",
   "execution_count": null,
   "id": "6f2595ff",
   "metadata": {},
   "outputs": [],
   "source": [
    "cat_sold = retail_df.groupby(['Category'])['Quantity'].sum().reset_index()\n",
    "cat_sold"
   ]
  },
  {
   "cell_type": "code",
   "execution_count": null,
   "id": "54f5192f",
   "metadata": {},
   "outputs": [],
   "source": [
    "# Coverting columns into a list\n",
    "Categories = list(cat_sold['Category'])\n",
    "Quantities = list(cat_sold['Quantity'])\n",
    "\n",
    "# Plotting the values\n",
    "plt.plot(Categories, Quantities, label='Categories')\n",
    "\n",
    "# Setting the x and y labels as title\n",
    "plt.xlabel('Categories')\n",
    "plt.ylabel('Quantity Sold')\n",
    "plt.title('Categories with most sold quantities', fontsize=20)\n",
    "\n",
    "# Show the chart\n",
    "plt.show()"
   ]
  },
  {
   "cell_type": "markdown",
   "id": "6d39c0df",
   "metadata": {},
   "source": [
    "###### Observation: 'Office Supplies Categories' has the most quantities sold."
   ]
  },
  {
   "cell_type": "markdown",
   "id": "84008ad4",
   "metadata": {},
   "source": [
    "### Chart 11:Top 5 Sub_Category with most quantities sold."
   ]
  },
  {
   "cell_type": "code",
   "execution_count": null,
   "id": "85dc1276",
   "metadata": {},
   "outputs": [],
   "source": [
    "subcat_sold = retail_df.groupby(['Sub-Category'])['Quantity'].sum().reset_index()\n",
    "subcat_sold5 = subcat_sold[:5]\n",
    "subcat_sold5"
   ]
  },
  {
   "cell_type": "code",
   "execution_count": null,
   "id": "4c00a98f",
   "metadata": {},
   "outputs": [],
   "source": [
    "Sub_Categories = list(subcat_sold5['Sub-Category'])\n",
    "SubCat_Quant = list(subcat_sold5['Quantity'])\n",
    "\n",
    "# Plotting the values\n",
    "plt.plot(Sub_Categories, SubCat_Quant, label='Sub-Categories')\n",
    "\n",
    "# Setting the x and y labels as title\n",
    "plt.xlabel('Sub-Categories')\n",
    "plt.ylabel('Quantity Sold')\n",
    "plt.title('Sub-Categories with most sold quantities', fontsize=20)\n",
    "\n",
    "# Show the chart\n",
    "plt.show()"
   ]
  },
  {
   "cell_type": "markdown",
   "id": "e7c3692b",
   "metadata": {},
   "source": [
    "###### Observation: 'Binders' sub-category has the most quantities sold."
   ]
  },
  {
   "cell_type": "markdown",
   "id": "e04f472e",
   "metadata": {},
   "source": [
    "### Conclusion:\n"
   ]
  },
  {
   "cell_type": "markdown",
   "id": "e288b383",
   "metadata": {},
   "source": [
    "1.\"Consumer' is the number 1 customer segment."
   ]
  },
  {
   "cell_type": "markdown",
   "id": "7f367c19",
   "metadata": {},
   "source": [
    " 2.'Standard Class' is the most prefferd type of shipment type followed by second class"
   ]
  },
  {
   "cell_type": "markdown",
   "id": "c7c0fe7d",
   "metadata": {},
   "source": [
    "3.Most customers come from West Region."
   ]
  },
  {
   "cell_type": "markdown",
   "id": "dd7752b9",
   "metadata": {},
   "source": [
    "4.Most customers come from 'California' State"
   ]
  },
  {
   "cell_type": "markdown",
   "id": "abb140cf",
   "metadata": {},
   "source": [
    "5.Most customers come from 'New York City'."
   ]
  },
  {
   "cell_type": "markdown",
   "id": "0535c0cb",
   "metadata": {},
   "source": [
    "6.Technology category has most sales (36.4%) followed by Furniture."
   ]
  },
  {
   "cell_type": "markdown",
   "id": "42d205e8",
   "metadata": {},
   "source": [
    "7.Most sale come from 2 categories 'Phones'(25.54%) and 'Chairs'(25.3%) respectively."
   ]
  },
  {
   "cell_type": "markdown",
   "id": "d2fd1ca6",
   "metadata": {},
   "source": [
    "8.'Technology' category is the most profitable category (50.2% of overall)."
   ]
  },
  {
   "cell_type": "markdown",
   "id": "ab8ac0e6",
   "metadata": {},
   "source": [
    "9.'Copiers' is the most profitable sub-category(27% approx of overall)."
   ]
  },
  {
   "cell_type": "markdown",
   "id": "309f0aeb",
   "metadata": {},
   "source": [
    "10.'Office Supplies Categories' has the most quantities sold.11.'Binders' sub-category has the most quantities sold."
   ]
  },
  {
   "cell_type": "code",
   "execution_count": null,
   "id": "41842f3e",
   "metadata": {},
   "outputs": [],
   "source": []
  }
 ],
 "metadata": {
  "kernelspec": {
   "display_name": "Python 3 (ipykernel)",
   "language": "python",
   "name": "python3"
  },
  "language_info": {
   "codemirror_mode": {
    "name": "ipython",
    "version": 3
   },
   "file_extension": ".py",
   "mimetype": "text/x-python",
   "name": "python",
   "nbconvert_exporter": "python",
   "pygments_lexer": "ipython3",
   "version": "3.11.3"
  }
 },
 "nbformat": 4,
 "nbformat_minor": 5
}
